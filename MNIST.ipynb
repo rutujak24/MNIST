{
  "nbformat": 4,
  "nbformat_minor": 0,
  "metadata": {
    "colab": {
      "name": "MNIST.ipynb",
      "provenance": []
    },
    "kernelspec": {
      "name": "python3",
      "display_name": "Python 3"
    }
  },
  "cells": [
    {
      "cell_type": "code",
      "metadata": {
        "id": "6SZ8-vaXEpQu",
        "colab_type": "code",
        "colab": {
          "base_uri": "https://localhost:8080/",
          "height": 34
        },
        "outputId": "9fa5a535-f8ab-45cb-d535-a10d2971d2c5"
      },
      "source": [
        "import numpy as np \n",
        "import keras \n",
        "from keras.datasets import mnist \n",
        "from keras.models import Model \n",
        "from keras.layers import Dense, Input\n",
        "from keras.layers import Conv2D, MaxPooling2D, Dropout, Flatten \n",
        "from keras import backend as k \n"
      ],
      "execution_count": 1,
      "outputs": [
        {
          "output_type": "stream",
          "text": [
            "Using TensorFlow backend.\n"
          ],
          "name": "stderr"
        }
      ]
    },
    {
      "cell_type": "code",
      "metadata": {
        "id": "XRtBJHS5FY_D",
        "colab_type": "code",
        "colab": {
          "base_uri": "https://localhost:8080/",
          "height": 50
        },
        "outputId": "a7b58702-644c-465a-c69f-d086ea73e086"
      },
      "source": [
        "(x_train, y_train), (x_test, y_test) = mnist.load_data() \n"
      ],
      "execution_count": 2,
      "outputs": [
        {
          "output_type": "stream",
          "text": [
            "Downloading data from https://s3.amazonaws.com/img-datasets/mnist.npz\n",
            "11493376/11490434 [==============================] - 0s 0us/step\n"
          ],
          "name": "stdout"
        }
      ]
    },
    {
      "cell_type": "code",
      "metadata": {
        "id": "L6LK-JaxFdvJ",
        "colab_type": "code",
        "colab": {}
      },
      "source": [
        "img_rows, img_cols=28, 28\n",
        "\n",
        "if k.image_data_format() == 'channels_first': \n",
        "  x_train = x_train.reshape(x_train.shape[0], 1, img_rows, img_cols) \n",
        "  x_test = x_test.reshape(x_test.shape[0], 1, img_rows, img_cols) \n",
        "  inpx = (1, img_rows, img_cols) \n",
        "\n",
        "else: \n",
        "  x_train = x_train.reshape(x_train.shape[0], img_rows, img_cols, 1) \n",
        "  x_test = x_test.reshape(x_test.shape[0], img_rows, img_cols, 1) \n",
        "  inpx = (img_rows, img_cols, 1) \n",
        "\n",
        "x_train = x_train.astype('float32') \n",
        "x_test = x_test.astype('float32') \n",
        "x_train /= 255\n",
        "x_test /= 255\n"
      ],
      "execution_count": 0,
      "outputs": []
    },
    {
      "cell_type": "code",
      "metadata": {
        "id": "5KhGOtmdFhHL",
        "colab_type": "code",
        "colab": {}
      },
      "source": [
        "y_train = keras.utils.to_categorical(y_train) \n",
        "y_test = keras.utils.to_categorical(y_test) \n"
      ],
      "execution_count": 0,
      "outputs": []
    },
    {
      "cell_type": "code",
      "metadata": {
        "id": "GrYJqEdJFxi2",
        "colab_type": "code",
        "colab": {}
      },
      "source": [
        "inpx = Input(shape=inpx) \n",
        "layer1 = Conv2D(32, kernel_size=(3, 3), activation='relu')(inpx) \n",
        "layer2 = Conv2D(64, (3, 3), activation='relu')(layer1) \n",
        "layer3 = MaxPooling2D(pool_size=(3, 3))(layer2) \n",
        "layer4 = Dropout(0.5)(layer3) \n",
        "layer5 = Flatten()(layer4) \n",
        "layer6 = Dense(250, activation='sigmoid')(layer5) \n",
        "layer7 = Dense(10, activation='softmax')(layer6) \n"
      ],
      "execution_count": 0,
      "outputs": []
    },
    {
      "cell_type": "code",
      "metadata": {
        "id": "wdVD-6tdF0Uq",
        "colab_type": "code",
        "colab": {
          "base_uri": "https://localhost:8080/",
          "height": 437
        },
        "outputId": "98895585-d722-42c6-ed39-6915ed49f024"
      },
      "source": [
        "model = Model([inpx], layer7) \n",
        "model.compile(optimizer=keras.optimizers.Adadelta(), \n",
        "\t\t\tloss=keras.losses.categorical_crossentropy, \n",
        "\t\t\tmetrics=['accuracy']) \n",
        "\n",
        "model.fit(x_train, y_train, epochs=12, batch_size=500) \n"
      ],
      "execution_count": 7,
      "outputs": [
        {
          "output_type": "stream",
          "text": [
            "Epoch 1/12\n",
            "60000/60000 [==============================] - 123s 2ms/step - loss: 0.7196 - accuracy: 0.7776\n",
            "Epoch 2/12\n",
            "60000/60000 [==============================] - 122s 2ms/step - loss: 0.2361 - accuracy: 0.9325\n",
            "Epoch 3/12\n",
            "60000/60000 [==============================] - 122s 2ms/step - loss: 0.1393 - accuracy: 0.9609\n",
            "Epoch 4/12\n",
            "60000/60000 [==============================] - 122s 2ms/step - loss: 0.1029 - accuracy: 0.9700\n",
            "Epoch 5/12\n",
            "60000/60000 [==============================] - 122s 2ms/step - loss: 0.0836 - accuracy: 0.9753\n",
            "Epoch 6/12\n",
            "60000/60000 [==============================] - 122s 2ms/step - loss: 0.0689 - accuracy: 0.9793\n",
            "Epoch 7/12\n",
            "60000/60000 [==============================] - 121s 2ms/step - loss: 0.0602 - accuracy: 0.9818\n",
            "Epoch 8/12\n",
            "60000/60000 [==============================] - 122s 2ms/step - loss: 0.0554 - accuracy: 0.9831\n",
            "Epoch 9/12\n",
            "60000/60000 [==============================] - 122s 2ms/step - loss: 0.0491 - accuracy: 0.9853\n",
            "Epoch 10/12\n",
            "60000/60000 [==============================] - 122s 2ms/step - loss: 0.0454 - accuracy: 0.9865\n",
            "Epoch 11/12\n",
            "60000/60000 [==============================] - 122s 2ms/step - loss: 0.0404 - accuracy: 0.9879\n",
            "Epoch 12/12\n",
            "60000/60000 [==============================] - 122s 2ms/step - loss: 0.0366 - accuracy: 0.9890\n"
          ],
          "name": "stdout"
        },
        {
          "output_type": "execute_result",
          "data": {
            "text/plain": [
              "<keras.callbacks.callbacks.History at 0x7f3062f00c18>"
            ]
          },
          "metadata": {
            "tags": []
          },
          "execution_count": 7
        }
      ]
    },
    {
      "cell_type": "code",
      "metadata": {
        "id": "-NtK_oSMF23K",
        "colab_type": "code",
        "colab": {
          "base_uri": "https://localhost:8080/",
          "height": 67
        },
        "outputId": "4171cd1e-ebf9-4502-9bbd-17e1fd81b585"
      },
      "source": [
        "score = model.evaluate(x_test, y_test, verbose=1) \n",
        "print('loss=', score[0]) \n",
        "print('accuracy=', score[1]) \n",
        "\n"
      ],
      "execution_count": 10,
      "outputs": [
        {
          "output_type": "stream",
          "text": [
            "10000/10000 [==============================] - 6s 648us/step\n",
            "loss= 0.030098634298099204\n",
            "accuracy= 0.9897000193595886\n"
          ],
          "name": "stdout"
        }
      ]
    },
    {
      "cell_type": "code",
      "metadata": {
        "id": "yd1_2uc5Lv4Y",
        "colab_type": "code",
        "colab": {}
      },
      "source": [
        ""
      ],
      "execution_count": 0,
      "outputs": []
    }
  ]
}